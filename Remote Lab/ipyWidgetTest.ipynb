{
  "nbformat": 4,
  "nbformat_minor": 0,
  "metadata": {
    "colab": {
      "name": "VoilaTest.ipynb",
      "provenance": [],
      "collapsed_sections": []
    },
    "kernelspec": {
      "name": "python3",
      "display_name": "Python 3"
    },
    "widgets": {
      "application/vnd.jupyter.widget-state+json": {
        "92f68042f50d481f9d3c88f76fa5770f": {
          "model_module": "@jupyter-widgets/controls",
          "model_name": "VBoxModel",
          "state": {
            "_view_name": "VBoxView",
            "_dom_classes": [
              "widget-interact"
            ],
            "_model_name": "VBoxModel",
            "_view_module": "@jupyter-widgets/controls",
            "_model_module_version": "1.5.0",
            "_view_count": null,
            "_view_module_version": "1.5.0",
            "box_style": "",
            "layout": "IPY_MODEL_865b792a5d9442eea1d890f2a7e078b4",
            "_model_module": "@jupyter-widgets/controls",
            "children": [
              "IPY_MODEL_4f828da45e084b5381a50e5c5ea9ca4f",
              "IPY_MODEL_feaab016485d4775b121f63b367529f4",
              "IPY_MODEL_ed27afaa6acc4fc18a91ab0292ff1289"
            ]
          }
        },
        "865b792a5d9442eea1d890f2a7e078b4": {
          "model_module": "@jupyter-widgets/base",
          "model_name": "LayoutModel",
          "state": {
            "_view_name": "LayoutView",
            "grid_template_rows": null,
            "right": null,
            "justify_content": null,
            "_view_module": "@jupyter-widgets/base",
            "overflow": null,
            "_model_module_version": "1.2.0",
            "_view_count": null,
            "flex_flow": null,
            "width": null,
            "min_width": null,
            "border": null,
            "align_items": null,
            "bottom": null,
            "_model_module": "@jupyter-widgets/base",
            "top": null,
            "grid_column": null,
            "overflow_y": null,
            "overflow_x": null,
            "grid_auto_flow": null,
            "grid_area": null,
            "grid_template_columns": null,
            "flex": null,
            "_model_name": "LayoutModel",
            "justify_items": null,
            "grid_row": null,
            "max_height": null,
            "align_content": null,
            "visibility": null,
            "align_self": null,
            "height": null,
            "min_height": null,
            "padding": null,
            "grid_auto_rows": null,
            "grid_gap": null,
            "max_width": null,
            "order": null,
            "_view_module_version": "1.2.0",
            "grid_template_areas": null,
            "object_position": null,
            "object_fit": null,
            "grid_auto_columns": null,
            "margin": null,
            "display": null,
            "left": null
          }
        },
        "4f828da45e084b5381a50e5c5ea9ca4f": {
          "model_module": "@jupyter-widgets/controls",
          "model_name": "IntSliderModel",
          "state": {
            "_view_name": "IntSliderView",
            "style": "IPY_MODEL_fecb78e7097744d7b1972e4d7f3dda3f",
            "_dom_classes": [],
            "description": "a",
            "step": 1,
            "_model_name": "IntSliderModel",
            "orientation": "horizontal",
            "max": 10,
            "_view_module": "@jupyter-widgets/controls",
            "_model_module_version": "1.5.0",
            "value": 5,
            "_view_count": null,
            "disabled": false,
            "_view_module_version": "1.5.0",
            "min": 0,
            "continuous_update": true,
            "readout_format": "d",
            "description_tooltip": null,
            "readout": true,
            "_model_module": "@jupyter-widgets/controls",
            "layout": "IPY_MODEL_7c95ed24c112435a8f52f804828af108"
          }
        },
        "feaab016485d4775b121f63b367529f4": {
          "model_module": "@jupyter-widgets/controls",
          "model_name": "IntSliderModel",
          "state": {
            "_view_name": "IntSliderView",
            "style": "IPY_MODEL_051587ca77e14c199c64363162b7178d",
            "_dom_classes": [],
            "description": "b",
            "step": 50,
            "_model_name": "IntSliderModel",
            "orientation": "horizontal",
            "max": 500,
            "_view_module": "@jupyter-widgets/controls",
            "_model_module_version": "1.5.0",
            "value": 100,
            "_view_count": null,
            "disabled": false,
            "_view_module_version": "1.5.0",
            "min": 0,
            "continuous_update": true,
            "readout_format": "d",
            "description_tooltip": null,
            "readout": true,
            "_model_module": "@jupyter-widgets/controls",
            "layout": "IPY_MODEL_f2df6a4769b84a40b94a598c12b6775f"
          }
        },
        "ed27afaa6acc4fc18a91ab0292ff1289": {
          "model_module": "@jupyter-widgets/output",
          "model_name": "OutputModel",
          "state": {
            "_view_name": "OutputView",
            "msg_id": "",
            "_dom_classes": [],
            "_model_name": "OutputModel",
            "outputs": [
              {
                "output_type": "display_data",
                "metadata": {
                  "tags": [],
                  "needs_background": "light"
                },
                "image/png": "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\n",
                "text/plain": "<Figure size 432x288 with 1 Axes>"
              }
            ],
            "_view_module": "@jupyter-widgets/output",
            "_model_module_version": "1.0.0",
            "_view_count": null,
            "_view_module_version": "1.0.0",
            "layout": "IPY_MODEL_d4f489a67f0e452a937829bcf6cabacb",
            "_model_module": "@jupyter-widgets/output"
          }
        },
        "fecb78e7097744d7b1972e4d7f3dda3f": {
          "model_module": "@jupyter-widgets/controls",
          "model_name": "SliderStyleModel",
          "state": {
            "_view_name": "StyleView",
            "handle_color": null,
            "_model_name": "SliderStyleModel",
            "description_width": "",
            "_view_module": "@jupyter-widgets/base",
            "_model_module_version": "1.5.0",
            "_view_count": null,
            "_view_module_version": "1.2.0",
            "_model_module": "@jupyter-widgets/controls"
          }
        },
        "7c95ed24c112435a8f52f804828af108": {
          "model_module": "@jupyter-widgets/base",
          "model_name": "LayoutModel",
          "state": {
            "_view_name": "LayoutView",
            "grid_template_rows": null,
            "right": null,
            "justify_content": null,
            "_view_module": "@jupyter-widgets/base",
            "overflow": null,
            "_model_module_version": "1.2.0",
            "_view_count": null,
            "flex_flow": null,
            "width": null,
            "min_width": null,
            "border": null,
            "align_items": null,
            "bottom": null,
            "_model_module": "@jupyter-widgets/base",
            "top": null,
            "grid_column": null,
            "overflow_y": null,
            "overflow_x": null,
            "grid_auto_flow": null,
            "grid_area": null,
            "grid_template_columns": null,
            "flex": null,
            "_model_name": "LayoutModel",
            "justify_items": null,
            "grid_row": null,
            "max_height": null,
            "align_content": null,
            "visibility": null,
            "align_self": null,
            "height": null,
            "min_height": null,
            "padding": null,
            "grid_auto_rows": null,
            "grid_gap": null,
            "max_width": null,
            "order": null,
            "_view_module_version": "1.2.0",
            "grid_template_areas": null,
            "object_position": null,
            "object_fit": null,
            "grid_auto_columns": null,
            "margin": null,
            "display": null,
            "left": null
          }
        },
        "051587ca77e14c199c64363162b7178d": {
          "model_module": "@jupyter-widgets/controls",
          "model_name": "SliderStyleModel",
          "state": {
            "_view_name": "StyleView",
            "handle_color": null,
            "_model_name": "SliderStyleModel",
            "description_width": "",
            "_view_module": "@jupyter-widgets/base",
            "_model_module_version": "1.5.0",
            "_view_count": null,
            "_view_module_version": "1.2.0",
            "_model_module": "@jupyter-widgets/controls"
          }
        },
        "f2df6a4769b84a40b94a598c12b6775f": {
          "model_module": "@jupyter-widgets/base",
          "model_name": "LayoutModel",
          "state": {
            "_view_name": "LayoutView",
            "grid_template_rows": null,
            "right": null,
            "justify_content": null,
            "_view_module": "@jupyter-widgets/base",
            "overflow": null,
            "_model_module_version": "1.2.0",
            "_view_count": null,
            "flex_flow": null,
            "width": null,
            "min_width": null,
            "border": null,
            "align_items": null,
            "bottom": null,
            "_model_module": "@jupyter-widgets/base",
            "top": null,
            "grid_column": null,
            "overflow_y": null,
            "overflow_x": null,
            "grid_auto_flow": null,
            "grid_area": null,
            "grid_template_columns": null,
            "flex": null,
            "_model_name": "LayoutModel",
            "justify_items": null,
            "grid_row": null,
            "max_height": null,
            "align_content": null,
            "visibility": null,
            "align_self": null,
            "height": null,
            "min_height": null,
            "padding": null,
            "grid_auto_rows": null,
            "grid_gap": null,
            "max_width": null,
            "order": null,
            "_view_module_version": "1.2.0",
            "grid_template_areas": null,
            "object_position": null,
            "object_fit": null,
            "grid_auto_columns": null,
            "margin": null,
            "display": null,
            "left": null
          }
        },
        "d4f489a67f0e452a937829bcf6cabacb": {
          "model_module": "@jupyter-widgets/base",
          "model_name": "LayoutModel",
          "state": {
            "_view_name": "LayoutView",
            "grid_template_rows": null,
            "right": null,
            "justify_content": null,
            "_view_module": "@jupyter-widgets/base",
            "overflow": null,
            "_model_module_version": "1.2.0",
            "_view_count": null,
            "flex_flow": null,
            "width": null,
            "min_width": null,
            "border": null,
            "align_items": null,
            "bottom": null,
            "_model_module": "@jupyter-widgets/base",
            "top": null,
            "grid_column": null,
            "overflow_y": null,
            "overflow_x": null,
            "grid_auto_flow": null,
            "grid_area": null,
            "grid_template_columns": null,
            "flex": null,
            "_model_name": "LayoutModel",
            "justify_items": null,
            "grid_row": null,
            "max_height": null,
            "align_content": null,
            "visibility": null,
            "align_self": null,
            "height": null,
            "min_height": null,
            "padding": null,
            "grid_auto_rows": null,
            "grid_gap": null,
            "max_width": null,
            "order": null,
            "_view_module_version": "1.2.0",
            "grid_template_areas": null,
            "object_position": null,
            "object_fit": null,
            "grid_auto_columns": null,
            "margin": null,
            "display": null,
            "left": null
          }
        }
      }
    }
  },
  "cells": [
    {
      "cell_type": "code",
      "metadata": {
        "id": "0NnxDx4RSUzm",
        "colab_type": "code",
        "colab": {}
      },
      "source": [
        "from ipywidgets import interact\n",
        "import matplotlib.pyplot as plt\n",
        "import numpy as np\n",
        "\n",
        "def plotx2(a, b):\n",
        "  x=np.arange(0,10,0.1)\n",
        "  y=a*(x**2)+b\n",
        "  plt.plot(x,y)\n",
        "  plt.axis([0,10,0,800])\n",
        "  plt.title(\" y = ax^2+b\")\n",
        "  return plt.show()"
      ],
      "execution_count": 1,
      "outputs": []
    },
    {
      "cell_type": "code",
      "metadata": {
        "id": "r_M-MOszSbc7",
        "colab_type": "code",
        "colab": {
          "base_uri": "https://localhost:8080/",
          "height": 345,
          "referenced_widgets": [
            "92f68042f50d481f9d3c88f76fa5770f",
            "865b792a5d9442eea1d890f2a7e078b4",
            "4f828da45e084b5381a50e5c5ea9ca4f",
            "feaab016485d4775b121f63b367529f4",
            "ed27afaa6acc4fc18a91ab0292ff1289",
            "fecb78e7097744d7b1972e4d7f3dda3f",
            "7c95ed24c112435a8f52f804828af108",
            "051587ca77e14c199c64363162b7178d",
            "f2df6a4769b84a40b94a598c12b6775f",
            "d4f489a67f0e452a937829bcf6cabacb"
          ]
        },
        "outputId": "2cbc633a-6396-4276-de80-f4055c200d5c"
      },
      "source": [
        "interact(plotx2, a=(0,10),b=(0,500,50));"
      ],
      "execution_count": 2,
      "outputs": [
        {
          "output_type": "display_data",
          "data": {
            "application/vnd.jupyter.widget-view+json": {
              "model_id": "92f68042f50d481f9d3c88f76fa5770f",
              "version_minor": 0,
              "version_major": 2
            },
            "text/plain": [
              "interactive(children=(IntSlider(value=5, description='a', max=10), IntSlider(value=250, description='b', max=5…"
            ]
          },
          "metadata": {
            "tags": []
          }
        }
      ]
    }
  ]
}